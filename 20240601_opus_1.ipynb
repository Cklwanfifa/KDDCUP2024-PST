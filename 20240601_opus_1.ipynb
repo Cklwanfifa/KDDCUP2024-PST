{
 "cells": [
  {
   "cell_type": "code",
   "execution_count": 1,
   "metadata": {},
   "outputs": [
    {
     "name": "stderr",
     "output_type": "stream",
     "text": [
      "/var/folders/56/b87bdh2x1kbcxmgsfhmgh1sh0000gn/T/ipykernel_98768/509512801.py:3: DeprecationWarning: \n",
      "Pyarrow will become a required dependency of pandas in the next major release of pandas (pandas 3.0),\n",
      "(to allow more performant data types, such as the Arrow string type, and better interoperability with other libraries)\n",
      "but was not found to be installed on your system.\n",
      "If this would cause problems for you,\n",
      "please provide us feedback at https://github.com/pandas-dev/pandas/issues/54466\n",
      "        \n",
      "  import pandas as pd\n"
     ]
    }
   ],
   "source": [
    "import pickle \n",
    "import json \n",
    "import pandas as pd\n",
    "import numpy as np\n",
    "from tqdm import tqdm\n"
   ]
  },
  {
   "cell_type": "code",
   "execution_count": 2,
   "metadata": {},
   "outputs": [
    {
     "name": "stdout",
     "output_type": "stream",
     "text": [
      "394\n"
     ]
    }
   ],
   "source": [
    "import pickle\n",
    "with open('20240528_get_prompt_gpt_detailed_test.pkl', 'rb') as f:\n",
    "    total_prompt_test = pickle.load(f)\n",
    "\n",
    "print(len(total_prompt_test))"
   ]
  },
  {
   "cell_type": "code",
   "execution_count": 3,
   "metadata": {},
   "outputs": [],
   "source": [
    "opus_res_test = {}"
   ]
  },
  {
   "cell_type": "code",
   "execution_count": 4,
   "metadata": {},
   "outputs": [],
   "source": [
    "import anthropic\n",
    "\n",
    "client = anthropic.Anthropic(\n",
    "    api_key= \"YOUR_API_KEY\",\n",
    "    base_url = \"YOUR_BASE_URL\"\n",
    ")"
   ]
  },
  {
   "cell_type": "code",
   "execution_count": null,
   "metadata": {},
   "outputs": [],
   "source": [
    "error_key = []\n",
    "for k, v in tqdm(total_prompt_test.items()):\n",
    "    flag = True\n",
    "\n",
    "    if k in opus_res_test.keys():\n",
    "        continue\n",
    "\n",
    "    if len(v) > 100000:\n",
    "        continue\n",
    "    \n",
    "    if flag:\n",
    "        try:\n",
    "            message = client.messages.create(\n",
    "                    model=\"claude-3-opus\",\n",
    "                    max_tokens = 4096,\n",
    "                    messages=[\n",
    "                        {\"role\": \"user\", \"content\": v} ])\n",
    "\n",
    "            opus_res_test[k] = message.content[0].text\n",
    "        except:\n",
    "            print(f\"You have error!, key is {k}\" )\n",
    "            error_key.append(k)\n",
    "            opus_res_test[k] = None\n",
    "\n",
    "\n",
    "### 保存\n",
    "### 储存结果\n",
    "opus_res_parse_test = {}\n",
    "for k, v in opus_res_test.items():\n",
    "    opus_res_parse_test[k] = v\n",
    "\n",
    "import json\n",
    "with open('opus_res_parse_test.json', 'w') as f:\n",
    "    json.dump(opus_res_parse_test, f)\n"
   ]
  }
 ],
 "metadata": {
  "kernelspec": {
   "display_name": "xeek2",
   "language": "python",
   "name": "python3"
  },
  "language_info": {
   "codemirror_mode": {
    "name": "ipython",
    "version": 3
   },
   "file_extension": ".py",
   "mimetype": "text/x-python",
   "name": "python",
   "nbconvert_exporter": "python",
   "pygments_lexer": "ipython3",
   "version": "3.9.18"
  }
 },
 "nbformat": 4,
 "nbformat_minor": 2
}
